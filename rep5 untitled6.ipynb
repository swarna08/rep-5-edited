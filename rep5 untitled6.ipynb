{
 "cells": [
  {
   "cell_type": "code",
   "execution_count": 5,
   "metadata": {},
   "outputs": [
    {
     "name": "stdout",
     "output_type": "stream",
     "text": [
      "['a', 'a', 'c', 'd', 'd', 'f', 'f', 'f', 'f', 'f']\n",
      "[79.0, 79.0, 91.0, 100.0, 100.0, 107.0, 107.0, 107.0, 107.0, 107.0]\n"
     ]
    }
   ],
   "source": [
    "#REP5/UNTITLED 6\n",
    "\n",
    "#Create a new column such that, each row contains the row number of nearest row-record by euclidean distance.\n",
    "\n",
    "import numpy as np\n",
    "import pandas as pd\n",
    "\n",
    "df = pd.DataFrame(np.random.randint(1,100, 40).reshape(10, -1), columns=list('pqrs'), index=list('abcdefghij'))\n",
    "df\n",
    "import numpy as np\n",
    "nearest_rows=[]\n",
    "nearest_distance=[]\n",
    "for i,row in df.iterrows():\n",
    "    curr=row\n",
    "    rest=df\n",
    "    e_dists={} #init dict to store euclidean dists for the current row\n",
    "for j,contestant in rest.iterrows():\n",
    "    e_dists.update({j:round(np.linalg.norm(curr.values-contestant.values))})\n",
    "    nearest_rows.append(max(e_dists,key=e_dists.get))\n",
    "    nearest_distance.append(max(e_dists.values()))\n",
    "\n",
    "print(nearest_rows)\n",
    "print(nearest_distance)\n",
    "\n",
    "df['nearest_row']=nearest_rows\n",
    "df['dist']=nearest_distance\n"
   ]
  },
  {
   "cell_type": "code",
   "execution_count": null,
   "metadata": {},
   "outputs": [],
   "source": []
  }
 ],
 "metadata": {
  "kernelspec": {
   "display_name": "Python 3",
   "language": "python",
   "name": "python3"
  },
  "language_info": {
   "codemirror_mode": {
    "name": "ipython",
    "version": 3
   },
   "file_extension": ".py",
   "mimetype": "text/x-python",
   "name": "python",
   "nbconvert_exporter": "python",
   "pygments_lexer": "ipython3",
   "version": "3.7.0"
  }
 },
 "nbformat": 4,
 "nbformat_minor": 2
}
